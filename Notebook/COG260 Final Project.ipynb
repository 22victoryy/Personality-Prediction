{
 "cells": [
  {
   "cell_type": "markdown",
   "metadata": {},
   "source": [
    "# COG260 Final Project\n",
    "## Group: Victor Cho & Tony Niu\n",
    "## Date: Monday, December 14, 2020\n",
    "## Personality Prediction"
   ]
  },
  {
   "cell_type": "markdown",
   "metadata": {},
   "source": [
    "Naive Bayes Classifer - Classifier that uses supervised learning algorithms based on applying the Bayes theorem with the naive assumption of condition dependence between every pair of features within the values (class variables). Although this is simpler than most supervised learning algorithms, it only gives us a rough prediction. This, as consistent as it is to our MBTI prediction goal since real life MBTI tests are not always accurately reflective, does not give us an absolute certainty of prediction. Therefore, the results should not be interpreted with absolute confidence. "
   ]
  },
  {
   "cell_type": "code",
   "execution_count": 57,
   "metadata": {},
   "outputs": [],
   "source": [
    "# import statements\n",
    "import pandas as pd\n",
    "import numpy as np\n",
    "import matplotlib.pyplot as plt\n",
    "import seaborn as sns\n",
    "import nltk\n",
    "# nltk.download('stopwords')\n",
    "# nltk.download('punkt')\n",
    "import string\n",
    "from nltk.classify import NaiveBayesClassifier\n"
   ]
  },
  {
   "cell_type": "code",
   "execution_count": 58,
   "metadata": {},
   "outputs": [
    {
     "data": {
      "text/plain": [
       "type     False\n",
       "posts    False\n",
       "dtype: bool"
      ]
     },
     "execution_count": 58,
     "metadata": {},
     "output_type": "execute_result"
    }
   ],
   "source": [
    "# import dataset\n",
    "df = pd.read_csv ('data/mbti_1.csv')\n",
    "# Check for null values\n",
    "df.isnull().any()"
   ]
  },
  {
   "cell_type": "code",
   "execution_count": 59,
   "metadata": {},
   "outputs": [
    {
     "data": {
      "text/plain": [
       "(8675, 2)"
      ]
     },
     "execution_count": 59,
     "metadata": {},
     "output_type": "execute_result"
    }
   ],
   "source": [
    "# Check data shape\n",
    "df.shape"
   ]
  },
  {
   "cell_type": "code",
   "execution_count": 60,
   "metadata": {},
   "outputs": [
    {
     "name": "stdout",
     "output_type": "stream",
     "text": [
      "There are 1088 cells that contain less than 50 posts.\n"
     ]
    }
   ],
   "source": [
    "# Find the number of posts \n",
    "counter = 0\n",
    "\n",
    "for i in range(0, df.shape[0]):\n",
    "    if(len(df.iloc[i, 1].split('|||'))) != 50:\n",
    "        counter += 1\n",
    "if counter != 0:\n",
    "    print(\"There are\", counter, \"cells that contain less than 50 posts.\")\n",
    "else:\n",
    "    print(\"All of the cells contain exactly 50 posts.\")\n",
    "        \n",
    "# len(df.iloc[1,1].split('|||'))"
   ]
  },
  {
   "cell_type": "code",
   "execution_count": 61,
   "metadata": {},
   "outputs": [
    {
     "data": {
      "text/plain": [
       "array(['ENFJ', 'ENFP', 'ENTJ', 'ENTP', 'ESFJ', 'ESFP', 'ESTJ', 'ESTP',\n",
       "       'INFJ', 'INFP', 'INTJ', 'INTP', 'ISFJ', 'ISFP', 'ISTJ', 'ISTP'],\n",
       "      dtype=object)"
      ]
     },
     "execution_count": 61,
     "metadata": {},
     "output_type": "execute_result"
    }
   ],
   "source": [
    "# Find unique values from the personality column\n",
    "types = np.unique(np.array(df['type']))\n",
    "types"
   ]
  },
  {
   "cell_type": "code",
   "execution_count": 62,
   "metadata": {},
   "outputs": [
    {
     "data": {
      "text/html": [
       "<div>\n",
       "<style scoped>\n",
       "    .dataframe tbody tr th:only-of-type {\n",
       "        vertical-align: middle;\n",
       "    }\n",
       "\n",
       "    .dataframe tbody tr th {\n",
       "        vertical-align: top;\n",
       "    }\n",
       "\n",
       "    .dataframe thead th {\n",
       "        text-align: right;\n",
       "    }\n",
       "</style>\n",
       "<table border=\"1\" class=\"dataframe\">\n",
       "  <thead>\n",
       "    <tr style=\"text-align: right;\">\n",
       "      <th></th>\n",
       "      <th>type</th>\n",
       "    </tr>\n",
       "    <tr>\n",
       "      <th>type</th>\n",
       "      <th></th>\n",
       "    </tr>\n",
       "  </thead>\n",
       "  <tbody>\n",
       "    <tr>\n",
       "      <th>ENFJ</th>\n",
       "      <td>190</td>\n",
       "    </tr>\n",
       "    <tr>\n",
       "      <th>ENFP</th>\n",
       "      <td>675</td>\n",
       "    </tr>\n",
       "    <tr>\n",
       "      <th>ENTJ</th>\n",
       "      <td>231</td>\n",
       "    </tr>\n",
       "    <tr>\n",
       "      <th>ENTP</th>\n",
       "      <td>685</td>\n",
       "    </tr>\n",
       "    <tr>\n",
       "      <th>ESFJ</th>\n",
       "      <td>42</td>\n",
       "    </tr>\n",
       "    <tr>\n",
       "      <th>ESFP</th>\n",
       "      <td>48</td>\n",
       "    </tr>\n",
       "    <tr>\n",
       "      <th>ESTJ</th>\n",
       "      <td>39</td>\n",
       "    </tr>\n",
       "    <tr>\n",
       "      <th>ESTP</th>\n",
       "      <td>89</td>\n",
       "    </tr>\n",
       "    <tr>\n",
       "      <th>INFJ</th>\n",
       "      <td>1470</td>\n",
       "    </tr>\n",
       "    <tr>\n",
       "      <th>INFP</th>\n",
       "      <td>1832</td>\n",
       "    </tr>\n",
       "    <tr>\n",
       "      <th>INTJ</th>\n",
       "      <td>1091</td>\n",
       "    </tr>\n",
       "    <tr>\n",
       "      <th>INTP</th>\n",
       "      <td>1304</td>\n",
       "    </tr>\n",
       "    <tr>\n",
       "      <th>ISFJ</th>\n",
       "      <td>166</td>\n",
       "    </tr>\n",
       "    <tr>\n",
       "      <th>ISFP</th>\n",
       "      <td>271</td>\n",
       "    </tr>\n",
       "    <tr>\n",
       "      <th>ISTJ</th>\n",
       "      <td>205</td>\n",
       "    </tr>\n",
       "    <tr>\n",
       "      <th>ISTP</th>\n",
       "      <td>337</td>\n",
       "    </tr>\n",
       "  </tbody>\n",
       "</table>\n",
       "</div>"
      ],
      "text/plain": [
       "      type\n",
       "type      \n",
       "ENFJ   190\n",
       "ENFP   675\n",
       "ENTJ   231\n",
       "ENTP   685\n",
       "ESFJ    42\n",
       "ESFP    48\n",
       "ESTJ    39\n",
       "ESTP    89\n",
       "INFJ  1470\n",
       "INFP  1832\n",
       "INTJ  1091\n",
       "INTP  1304\n",
       "ISFJ   166\n",
       "ISFP   271\n",
       "ISTJ   205\n",
       "ISTP   337"
      ]
     },
     "execution_count": 62,
     "metadata": {},
     "output_type": "execute_result"
    }
   ],
   "source": [
    "# number of users who identify as a specific personality\n",
    "df.groupby('type').agg({'type':'count'})"
   ]
  },
  {
   "cell_type": "code",
   "execution_count": 63,
   "metadata": {},
   "outputs": [
    {
     "name": "stdout",
     "output_type": "stream",
     "text": [
      "   type                                              posts  words_per_comment\n",
      "0  INFJ  'http://www.youtube.com/watch?v=qsXHcwe3krw|||...              11.12\n",
      "1  ENTP  'I'm finding the lack of me in these posts ver...              23.40\n",
      "2  INTP  'Good one  _____   https://www.youtube.com/wat...              16.72\n",
      "3  INTJ  'Dear INTP,   I enjoyed our conversation the o...              21.28\n",
      "4  ENTJ  'You're fired.|||That's another silly misconce...              19.34\n"
     ]
    }
   ],
   "source": [
    "df['words_per_comment'] = df['posts'].apply(lambda x: len(x.split())/len(x.split(\"|||\")))\n",
    "print(df.head())"
   ]
  },
  {
   "cell_type": "code",
   "execution_count": 64,
   "metadata": {},
   "outputs": [
    {
     "data": {
      "image/png": "[encoded data removed]",
      "text/plain": [
       "<Figure size 1080x720 with 1 Axes>"
      ]
     },
     "metadata": {
      "needs_background": "light"
     },
     "output_type": "display_data"
    }
   ],
   "source": [
    "plt.figure(figsize = (15, 10))\n",
    "\n",
    "sns.violinplot(x = 'type', y = 'words_per_comment', data = df, inner = None, color = 'lightgray')\n",
    "sns.stripplot(x = 'type', y = 'words_per_comment', data = df, size = 3, jitter = True)\n",
    "plt.ylabel('Words Per Comment')\n",
    "plt.xlabel('Type')\n",
    "\n",
    "plt.show()"
   ]
  },
  {
   "cell_type": "code",
   "execution_count": 65,
   "metadata": {},
   "outputs": [
    {
     "data": {
      "text/plain": [
       "{'INFJ': 72105,\n",
       " 'ENTP': 33761,\n",
       " 'INTP': 63359,\n",
       " 'INTJ': 52471,\n",
       " 'ENTJ': 11273,\n",
       " 'ENFJ': 9288,\n",
       " 'INFP': 89796,\n",
       " 'ENFP': 32769,\n",
       " 'ISFP': 13000,\n",
       " 'ISTP': 16498,\n",
       " 'ISFJ': 8121,\n",
       " 'ISTJ': 9913,\n",
       " 'ESTP': 4337,\n",
       " 'ESFP': 2215,\n",
       " 'ESTJ': 1921,\n",
       " 'ESFJ': 2018}"
      ]
     },
     "execution_count": 65,
     "metadata": {},
     "output_type": "execute_result"
    }
   ],
   "source": [
    "info = {}\n",
    "\n",
    "for i in range(len(df)):\n",
    "    info[i] = [df[\"type\"][i], df[\"posts\"][i].split(\"|||\")]\n",
    "    \n",
    "len(info[0][1])\n",
    "info[0][0] == 'INFJ'\n",
    "\n",
    "number_of_posts = {}\n",
    "\n",
    "for i in range(0, len(info)):\n",
    "    if info[i][0] not in number_of_posts:\n",
    "        number_of_posts[info[i][0]] = len(info[i][1])\n",
    "    else:\n",
    "        number_of_posts[info[i][0]] += len(info[i][1])\n",
    "    \n",
    "number_of_posts"
   ]
  },
  {
   "cell_type": "code",
   "execution_count": 66,
   "metadata": {},
   "outputs": [
    {
     "data": {
      "image/png": "[encoded data removed]",
      "text/plain": [
       "<Figure size 864x432 with 1 Axes>"
      ]
     },
     "metadata": {
      "needs_background": "light"
     },
     "output_type": "display_data"
    }
   ],
   "source": [
    "plt.figure(figsize = (12,6))\n",
    "plt.bar(range(len(number_of_posts)), list(number_of_posts.values()), align = 'center')\n",
    "plt.xticks(range(len(number_of_posts)), list(number_of_posts.keys()))\n",
    "plt.xlabel('Personality types', size = 14)\n",
    "plt.ylabel('Number of posts available', size = 14)\n",
    "plt.title('Total posts for each personality type')\n",
    "plt.show()"
   ]
  },
  {
   "cell_type": "code",
   "execution_count": 67,
   "metadata": {},
   "outputs": [
    {
     "data": {
      "text/html": [
       "<div>\n",
       "<style scoped>\n",
       "    .dataframe tbody tr th:only-of-type {\n",
       "        vertical-align: middle;\n",
       "    }\n",
       "\n",
       "    .dataframe tbody tr th {\n",
       "        vertical-align: top;\n",
       "    }\n",
       "\n",
       "    .dataframe thead th {\n",
       "        text-align: right;\n",
       "    }\n",
       "</style>\n",
       "<table border=\"1\" class=\"dataframe\">\n",
       "  <thead>\n",
       "    <tr style=\"text-align: right;\">\n",
       "      <th></th>\n",
       "      <th>ENFJ</th>\n",
       "      <th>ENFP</th>\n",
       "      <th>ENTJ</th>\n",
       "      <th>ENTP</th>\n",
       "      <th>ESFJ</th>\n",
       "      <th>ESFP</th>\n",
       "      <th>ESTJ</th>\n",
       "      <th>ESTP</th>\n",
       "      <th>INFJ</th>\n",
       "      <th>INFP</th>\n",
       "      <th>INTJ</th>\n",
       "      <th>INTP</th>\n",
       "      <th>ISFJ</th>\n",
       "      <th>ISFP</th>\n",
       "      <th>ISTJ</th>\n",
       "      <th>ISTP</th>\n",
       "    </tr>\n",
       "  </thead>\n",
       "  <tbody>\n",
       "    <tr>\n",
       "      <th>0</th>\n",
       "      <td>'https://www.youtube.com/watch?v=PLAaiKvHvZs</td>\n",
       "      <td>'He doesn't want to go on the trip without me,...</td>\n",
       "      <td>'You're fired.</td>\n",
       "      <td>'I'm finding the lack of me in these posts ver...</td>\n",
       "      <td>'Why not?</td>\n",
       "      <td>'Edit: I forgot what board this was on.</td>\n",
       "      <td>this is such a catch 22</td>\n",
       "      <td>Splinter Cell Blacklist for Xbox 360.</td>\n",
       "      <td>'http://www.youtube.com/watch?v=qsXHcwe3krw</td>\n",
       "      <td>'I think we do agree. I personally don't consi...</td>\n",
       "      <td>'Dear INTP,   I enjoyed our conversation the o...</td>\n",
       "      <td>'Good one  _____   https://www.youtube.com/wat...</td>\n",
       "      <td>'I love feeling affectionate for the one I lov...</td>\n",
       "      <td>'They paint without numbers</td>\n",
       "      <td>'Newton's Universal Gravity Law. I mean seriou...</td>\n",
       "      <td>'I got 593.  From what I've read about the Enn...</td>\n",
       "    </tr>\n",
       "    <tr>\n",
       "      <th>1</th>\n",
       "      <td>51 :o</td>\n",
       "      <td>I'm still completely in AWE and I'm AMAZED tha...</td>\n",
       "      <td>That's another silly misconception. That appro...</td>\n",
       "      <td>Sex can be boring if it's in the same position...</td>\n",
       "      <td>Any other ESFJs originally mistype as an NFP? ...</td>\n",
       "      <td>I am currently reading 'Artemis Fowl: The Eter...</td>\n",
       "      <td>I'm here! Although, I'm quite the terrible EST...</td>\n",
       "      <td>ESTPs are generally well liked. If you get hat...</td>\n",
       "      <td>http://41.media.tumblr.com/tumblr_lfouy03PMA1q...</td>\n",
       "      <td>Literature... I'd suggest 'Everyday Zen' by Ch...</td>\n",
       "      <td>Dear ENTJ sub,   Long time no see.  Sincerely,...</td>\n",
       "      <td>Of course, to which I say I know; that's my bl...</td>\n",
       "      <td>Kind of an update on my past post above. Whate...</td>\n",
       "      <td>I'd guess at istp too</td>\n",
       "      <td>Well, if money and time was no object, I would...</td>\n",
       "      <td>GTFO FEELER!</td>\n",
       "    </tr>\n",
       "    <tr>\n",
       "      <th>2</th>\n",
       "      <td>I went through a break up some months ago. We ...</td>\n",
       "      <td>Thanks, everyone. I'm struggling with being se...</td>\n",
       "      <td>But guys... he REALLY wants to go on a super-d...</td>\n",
       "      <td>Giving new meaning to 'Game' theory.</td>\n",
       "      <td>Hello again. Thanks for all your help. I know ...</td>\n",
       "      <td>Hi all, if you've got some spare time and why ...</td>\n",
       "      <td>Yikes. I do not want power...</td>\n",
       "      <td>I often come off to people with the opposite o...</td>\n",
       "      <td>enfp and intj moments  https://www.youtube.com...</td>\n",
       "      <td>Being emotional doesn't automatically make som...</td>\n",
       "      <td>None of them. All other types hurt in deep exi...</td>\n",
       "      <td>Does being absolutely positive that you and yo...</td>\n",
       "      <td>It feels weird being in love for the first tim...</td>\n",
       "      <td>My best bud is ESFP, very funny, entertaining ...</td>\n",
       "      <td>http://www.oglaf.com/media/comic/failsafe.jpg</td>\n",
       "      <td>A lot of the stuff that you read in the INTP d...</td>\n",
       "    </tr>\n",
       "    <tr>\n",
       "      <th>3</th>\n",
       "      <td>ENFJ Puns so many puns.</td>\n",
       "      <td>My husband works an extra job each year to pay...</td>\n",
       "      <td>Never mind. Just go on permanent vacation.</td>\n",
       "      <td>Hello *ENTP Grin*  That's all it takes. Than w...</td>\n",
       "      <td>Of the J functions, I'd say it would be: Fi&gt;Ti...</td>\n",
       "      <td>BABYMETAL are the best band of this decade  ht...</td>\n",
       "      <td>Thank you SO SO much. This is what I had plann...</td>\n",
       "      <td>Ask her what you are to her.</td>\n",
       "      <td>What has been the most life-changing experienc...</td>\n",
       "      <td>I'm a Ch'an Buddhist, so it's a daily thing fo...</td>\n",
       "      <td>Probably a sliding scale that depends on indiv...</td>\n",
       "      <td>No, I didn't; thank you for a link!</td>\n",
       "      <td>Unsure if i completely understand the question...</td>\n",
       "      <td>I used to smoke weed alot, everyday from morni...</td>\n",
       "      <td>I'm still laughing! xD  http://www.youtube.com...</td>\n",
       "      <td>Don't worry about it.  You are trying to make ...</td>\n",
       "    </tr>\n",
       "    <tr>\n",
       "      <th>4</th>\n",
       "      <td>Well I personally don't go that much for attra...</td>\n",
       "      <td>He said that it's not like he's asking me to d...</td>\n",
       "      <td>Two months? I wouldn't be crazy about the idea...</td>\n",
       "      <td>This + Lack of Balance and Hand Eye Coordination.</td>\n",
       "      <td>The ESFJs on this site are lovely. I'm general...</td>\n",
       "      <td>Banned for being a fire hazard.</td>\n",
       "      <td>Hi</td>\n",
       "      <td>I'm a euphonium player and a writer</td>\n",
       "      <td>http://www.youtube.com/watch?v=vXZeYwwRDw8   h...</td>\n",
       "      <td>Glad to know I'm not the only one. I meditate,...</td>\n",
       "      <td>Draco Malfoy also. I'd say he's either 358 or ...</td>\n",
       "      <td>So-called Ti-Si loop (and it can stem from any...</td>\n",
       "      <td>Not often, but I tend to lose it more when it ...</td>\n",
       "      <td>Jimi Hendrix - The Wind Cries Mary.  After all...</td>\n",
       "      <td>workaround is working for me, and I'm using FF...</td>\n",
       "      <td>My mother-in-law is an ESTJ.  She is the epito...</td>\n",
       "    </tr>\n",
       "  </tbody>\n",
       "</table>\n",
       "</div>"
      ],
      "text/plain": [
       "                                                ENFJ  \\\n",
       "0       'https://www.youtube.com/watch?v=PLAaiKvHvZs   \n",
       "1                                              51 :o   \n",
       "2  I went through a break up some months ago. We ...   \n",
       "3                            ENFJ Puns so many puns.   \n",
       "4  Well I personally don't go that much for attra...   \n",
       "\n",
       "                                                ENFP  \\\n",
       "0  'He doesn't want to go on the trip without me,...   \n",
       "1  I'm still completely in AWE and I'm AMAZED tha...   \n",
       "2  Thanks, everyone. I'm struggling with being se...   \n",
       "3  My husband works an extra job each year to pay...   \n",
       "4  He said that it's not like he's asking me to d...   \n",
       "\n",
       "                                                ENTJ  \\\n",
       "0                                     'You're fired.   \n",
       "1  That's another silly misconception. That appro...   \n",
       "2  But guys... he REALLY wants to go on a super-d...   \n",
       "3         Never mind. Just go on permanent vacation.   \n",
       "4  Two months? I wouldn't be crazy about the idea...   \n",
       "\n",
       "                                                ENTP  \\\n",
       "0  'I'm finding the lack of me in these posts ver...   \n",
       "1  Sex can be boring if it's in the same position...   \n",
       "2               Giving new meaning to 'Game' theory.   \n",
       "3  Hello *ENTP Grin*  That's all it takes. Than w...   \n",
       "4  This + Lack of Balance and Hand Eye Coordination.   \n",
       "\n",
       "                                                ESFJ  \\\n",
       "0                                          'Why not?   \n",
       "1  Any other ESFJs originally mistype as an NFP? ...   \n",
       "2  Hello again. Thanks for all your help. I know ...   \n",
       "3  Of the J functions, I'd say it would be: Fi>Ti...   \n",
       "4  The ESFJs on this site are lovely. I'm general...   \n",
       "\n",
       "                                                ESFP  \\\n",
       "0            'Edit: I forgot what board this was on.   \n",
       "1  I am currently reading 'Artemis Fowl: The Eter...   \n",
       "2  Hi all, if you've got some spare time and why ...   \n",
       "3  BABYMETAL are the best band of this decade  ht...   \n",
       "4                    Banned for being a fire hazard.   \n",
       "\n",
       "                                                ESTJ  \\\n",
       "0                           this is such a catch 22    \n",
       "1  I'm here! Although, I'm quite the terrible EST...   \n",
       "2                      Yikes. I do not want power...   \n",
       "3  Thank you SO SO much. This is what I had plann...   \n",
       "4                                                 Hi   \n",
       "\n",
       "                                                ESTP  \\\n",
       "0              Splinter Cell Blacklist for Xbox 360.   \n",
       "1  ESTPs are generally well liked. If you get hat...   \n",
       "2  I often come off to people with the opposite o...   \n",
       "3                       Ask her what you are to her.   \n",
       "4                I'm a euphonium player and a writer   \n",
       "\n",
       "                                                INFJ  \\\n",
       "0        'http://www.youtube.com/watch?v=qsXHcwe3krw   \n",
       "1  http://41.media.tumblr.com/tumblr_lfouy03PMA1q...   \n",
       "2  enfp and intj moments  https://www.youtube.com...   \n",
       "3  What has been the most life-changing experienc...   \n",
       "4  http://www.youtube.com/watch?v=vXZeYwwRDw8   h...   \n",
       "\n",
       "                                                INFP  \\\n",
       "0  'I think we do agree. I personally don't consi...   \n",
       "1  Literature... I'd suggest 'Everyday Zen' by Ch...   \n",
       "2  Being emotional doesn't automatically make som...   \n",
       "3  I'm a Ch'an Buddhist, so it's a daily thing fo...   \n",
       "4  Glad to know I'm not the only one. I meditate,...   \n",
       "\n",
       "                                                INTJ  \\\n",
       "0  'Dear INTP,   I enjoyed our conversation the o...   \n",
       "1  Dear ENTJ sub,   Long time no see.  Sincerely,...   \n",
       "2  None of them. All other types hurt in deep exi...   \n",
       "3  Probably a sliding scale that depends on indiv...   \n",
       "4  Draco Malfoy also. I'd say he's either 358 or ...   \n",
       "\n",
       "                                                INTP  \\\n",
       "0  'Good one  _____   https://www.youtube.com/wat...   \n",
       "1  Of course, to which I say I know; that's my bl...   \n",
       "2  Does being absolutely positive that you and yo...   \n",
       "3                No, I didn't; thank you for a link!   \n",
       "4  So-called Ti-Si loop (and it can stem from any...   \n",
       "\n",
       "                                                ISFJ  \\\n",
       "0  'I love feeling affectionate for the one I lov...   \n",
       "1  Kind of an update on my past post above. Whate...   \n",
       "2  It feels weird being in love for the first tim...   \n",
       "3  Unsure if i completely understand the question...   \n",
       "4  Not often, but I tend to lose it more when it ...   \n",
       "\n",
       "                                                ISFP  \\\n",
       "0                        'They paint without numbers   \n",
       "1                              I'd guess at istp too   \n",
       "2  My best bud is ESFP, very funny, entertaining ...   \n",
       "3  I used to smoke weed alot, everyday from morni...   \n",
       "4  Jimi Hendrix - The Wind Cries Mary.  After all...   \n",
       "\n",
       "                                                ISTJ  \\\n",
       "0  'Newton's Universal Gravity Law. I mean seriou...   \n",
       "1  Well, if money and time was no object, I would...   \n",
       "2      http://www.oglaf.com/media/comic/failsafe.jpg   \n",
       "3  I'm still laughing! xD  http://www.youtube.com...   \n",
       "4  workaround is working for me, and I'm using FF...   \n",
       "\n",
       "                                                ISTP  \n",
       "0  'I got 593.  From what I've read about the Enn...  \n",
       "1                                       GTFO FEELER!  \n",
       "2  A lot of the stuff that you read in the INTP d...  \n",
       "3  Don't worry about it.  You are trying to make ...  \n",
       "4  My mother-in-law is an ESTJ.  She is the epito...  "
      ]
     },
     "execution_count": 67,
     "metadata": {},
     "output_type": "execute_result"
    }
   ],
   "source": [
    "# Segrating all the posts by their personality types and creating a new dataframe to store all this in\n",
    "all_posts = pd.DataFrame()\n",
    "for j in types:\n",
    "    temp1 = df[df['type'] == j]['posts']\n",
    "    temp2 = []\n",
    "    for i in temp1:\n",
    "        temp2 += i.split('|||')\n",
    "    temp3 = pd.Series(temp2)\n",
    "    all_posts[j] = temp3\n",
    "\n",
    "all_posts.head()"
   ]
  },
  {
   "cell_type": "markdown",
   "metadata": {},
   "source": [
    "**** The NaiveBayesClassifier Model ****\n",
    "\n",
    "The Myers-Briggs Type Indicator (MBTI) divides everyone into 16 unique personality types:\n",
    "\n",
    "ISTJ, ISFJ, INFJ, INTJ\n",
    "ISTP, ISFP, INFP, INTP\n",
    "ESTP, ESFP, ENFP, ENTP\n",
    "ESTJ, ESFJ, ENFJ, ENTJ\n",
    "\n",
    "The following model is used to fit these 16 personality types according to specific words they use\n",
    "\n",
    "We will use this and create 1 classifier to get an accuracy score"
   ]
  },
  {
   "cell_type": "code",
   "execution_count": 68,
   "metadata": {},
   "outputs": [],
   "source": [
    "# tokenise words\n",
    "# nltk.corpus.stopwords.words(\"english\") contains commonly used words such as \"a\", \"an\", \"the\"\n",
    "# string.punctuation contains punctuations such as \"!\", \"(\", \"=\", etc.\n",
    "\n",
    "useless_words = nltk.corpus.stopwords.words(\"english\") + list(string.punctuation)\n",
    "\n",
    "def build_bag_of_words_features_filtered(words):\n",
    "    # returns a dictionary of words that are not useless words or punctuations\n",
    "    words = nltk.word_tokenize(words)\n",
    "    return {\n",
    "        word:1 for word in words \\\n",
    "        if not word in useless_words}"
   ]
  },
  {
   "cell_type": "code",
   "execution_count": 69,
   "metadata": {},
   "outputs": [
    {
     "data": {
      "text/plain": [
       "\"I have toyed with the idea of the OP being an extrovert also for awhile now, actually. After many conversations with him, however I'm disinclined to believe it due to OP being much too close with Fi...\""
      ]
     },
     "execution_count": 69,
     "metadata": {},
     "output_type": "execute_result"
    }
   ],
   "source": [
    "# demonstration of the function\n",
    "all_posts['INTJ'].iloc[10]"
   ]
  },
  {
   "cell_type": "code",
   "execution_count": 70,
   "metadata": {},
   "outputs": [
    {
     "data": {
      "text/plain": [
       "{'I': 1,\n",
       " 'toyed': 1,\n",
       " 'idea': 1,\n",
       " 'OP': 1,\n",
       " 'extrovert': 1,\n",
       " 'also': 1,\n",
       " 'awhile': 1,\n",
       " 'actually': 1,\n",
       " 'After': 1,\n",
       " 'many': 1,\n",
       " 'conversations': 1,\n",
       " 'however': 1,\n",
       " \"'m\": 1,\n",
       " 'disinclined': 1,\n",
       " 'believe': 1,\n",
       " 'due': 1,\n",
       " 'much': 1,\n",
       " 'close': 1,\n",
       " 'Fi': 1,\n",
       " '...': 1}"
      ]
     },
     "execution_count": 70,
     "metadata": {},
     "output_type": "execute_result"
    }
   ],
   "source": [
    "build_bag_of_words_features_filtered(all_posts['INTJ'].iloc[10])"
   ]
  },
  {
   "cell_type": "code",
   "execution_count": 71,
   "metadata": {
    "scrolled": true
   },
   "outputs": [],
   "source": [
    "# create array of features\n",
    "features=[]\n",
    "for j in types:\n",
    "    temp1 = all_posts[j]\n",
    "    temp1 = temp1.dropna() # not all the personality types have same number of files\n",
    "    features += [[(build_bag_of_words_features_filtered(i), j) for i in temp1]]"
   ]
  },
  {
   "cell_type": "code",
   "execution_count": 72,
   "metadata": {},
   "outputs": [
    {
     "data": {
      "text/plain": [
       "array([7430, 7430, 7430, 7430, 1614, 1772, 1536, 3469, 7430, 7430, 7430,\n",
       "       7430, 6496, 7430, 7430, 7430])"
      ]
     },
     "execution_count": 72,
     "metadata": {},
     "output_type": "execute_result"
    }
   ],
   "source": [
    "# each number of personality types have different number of posts\n",
    "# therefore, they must be splitted accordingle\n",
    "# we will split 80% for training and 20% for testing\n",
    "\n",
    "split=[]\n",
    "for i in range(16):\n",
    "    split += [len(features[i]) * 0.8]\n",
    "split = np.array(split, dtype = int)\n",
    "\n",
    "split"
   ]
  },
  {
   "cell_type": "code",
   "execution_count": 73,
   "metadata": {},
   "outputs": [],
   "source": [
    "# creating the train data\n",
    "train=[]\n",
    "for i in range(16):\n",
    "    train += features[i][:split[i]]"
   ]
  },
  {
   "cell_type": "code",
   "execution_count": 74,
   "metadata": {},
   "outputs": [],
   "source": [
    "# train the model\n",
    "model_train = NaiveBayesClassifier.train(train)"
   ]
  },
  {
   "cell_type": "code",
   "execution_count": 75,
   "metadata": {},
   "outputs": [
    {
     "name": "stdout",
     "output_type": "stream",
     "text": [
      "43.92808718962502\n"
     ]
    }
   ],
   "source": [
    "# testing the model on the training dataset\n",
    "a = nltk.classify.util.accuracy(model_train, train)*100\n",
    "print(a)"
   ]
  },
  {
   "cell_type": "code",
   "execution_count": 76,
   "metadata": {},
   "outputs": [],
   "source": [
    "# creating the test data\n",
    "test=[]\n",
    "for i in range(16):\n",
    "    test += features[i][split[i]:]"
   ]
  },
  {
   "cell_type": "code",
   "execution_count": 77,
   "metadata": {},
   "outputs": [
    {
     "name": "stdout",
     "output_type": "stream",
     "text": [
      "10.429168563506188\n"
     ]
    }
   ],
   "source": [
    "# testing the model on the test dataset\n",
    "b = nltk.classify.util.accuracy(model_train, test)*100\n",
    "print(b)"
   ]
  },
  {
   "cell_type": "code",
   "execution_count": 78,
   "metadata": {},
   "outputs": [
    {
     "data": {
      "text/html": [
       "<div>\n",
       "<style scoped>\n",
       "    .dataframe tbody tr th:only-of-type {\n",
       "        vertical-align: middle;\n",
       "    }\n",
       "\n",
       "    .dataframe tbody tr th {\n",
       "        vertical-align: top;\n",
       "    }\n",
       "\n",
       "    .dataframe thead th {\n",
       "        text-align: right;\n",
       "    }\n",
       "</style>\n",
       "<table border=\"1\" class=\"dataframe\">\n",
       "  <thead>\n",
       "    <tr style=\"text-align: right;\">\n",
       "      <th></th>\n",
       "      <th>All personalities</th>\n",
       "    </tr>\n",
       "  </thead>\n",
       "  <tbody>\n",
       "    <tr>\n",
       "      <th>train</th>\n",
       "      <td>43.928087</td>\n",
       "    </tr>\n",
       "    <tr>\n",
       "      <th>test</th>\n",
       "      <td>10.429169</td>\n",
       "    </tr>\n",
       "  </tbody>\n",
       "</table>\n",
       "</div>"
      ],
      "text/plain": [
       "       All personalities\n",
       "train          43.928087\n",
       "test           10.429169"
      ]
     },
     "execution_count": 78,
     "metadata": {},
     "output_type": "execute_result"
    }
   ],
   "source": [
    "temp = {'train' : a, 'test' : b}\n",
    "results = pd.DataFrame.from_dict(temp, orient='index', columns=['All personalities'])\n",
    "results"
   ]
  },
  {
   "cell_type": "code",
   "execution_count": 79,
   "metadata": {},
   "outputs": [],
   "source": [
    "training_accuracy = []\n",
    "testing_accuracy = []"
   ]
  },
  {
   "cell_type": "markdown",
   "metadata": {},
   "source": [
    "**** I / E ****"
   ]
  },
  {
   "cell_type": "code",
   "execution_count": 80,
   "metadata": {},
   "outputs": [],
   "source": [
    "# this is a classifier for Introversion (I) and Extroversion (E)\n",
    "features = []\n",
    "for j in types:\n",
    "    temp1 = all_posts[j]\n",
    "    temp1 = temp1.dropna()\n",
    "    if('I' in j):\n",
    "        features += [[(build_bag_of_words_features_filtered(i), 'Introvert') \\\n",
    "        for i in temp1]]\n",
    "    if('E' in j):\n",
    "        features += [[(build_bag_of_words_features_filtered(i), 'Extrovert') \\\n",
    "        for i in temp1]]"
   ]
  },
  {
   "cell_type": "code",
   "execution_count": 81,
   "metadata": {},
   "outputs": [],
   "source": [
    "# split the data 80% - 20%\n",
    "train = []\n",
    "for i in range(16):\n",
    "    train += features[i][:split[i]] "
   ]
  },
  {
   "cell_type": "code",
   "execution_count": 82,
   "metadata": {},
   "outputs": [],
   "source": [
    "# training the model\n",
    "intro_extro = NaiveBayesClassifier.train(train)"
   ]
  },
  {
   "cell_type": "code",
   "execution_count": 83,
   "metadata": {},
   "outputs": [
    {
     "data": {
      "text/plain": [
       "80.76528975232102"
      ]
     },
     "execution_count": 83,
     "metadata": {},
     "output_type": "execute_result"
    }
   ],
   "source": [
    "# testing the model on the training dataset\n",
    "training_accuracy.append(nltk.classify.util.accuracy(intro_extro, train) * 100)\n",
    "nltk.classify.util.accuracy(intro_extro, train) * 100"
   ]
  },
  {
   "cell_type": "code",
   "execution_count": 84,
   "metadata": {},
   "outputs": [],
   "source": [
    "# creating the test data\n",
    "test = []\n",
    "for i in range(16):\n",
    "    test += features[i][split[i]:]"
   ]
  },
  {
   "cell_type": "code",
   "execution_count": 85,
   "metadata": {},
   "outputs": [
    {
     "data": {
      "text/plain": [
       "58.10536771096304"
      ]
     },
     "execution_count": 85,
     "metadata": {},
     "output_type": "execute_result"
    }
   ],
   "source": [
    "# testing the model on the test dataset\n",
    "testing_accuracy.append(nltk.classify.util.accuracy(intro_extro, test) * 100)\n",
    "nltk.classify.util.accuracy(intro_extro, test) * 100"
   ]
  },
  {
   "cell_type": "markdown",
   "metadata": {},
   "source": [
    "**** N / S ****"
   ]
  },
  {
   "cell_type": "code",
   "execution_count": 86,
   "metadata": {},
   "outputs": [],
   "source": [
    "# this is a classifier for Intuition (N) and Sensing (S)\n",
    "features = []\n",
    "for j in types:\n",
    "    temp1 = all_posts[j]\n",
    "    temp1 = temp1.dropna()\n",
    "    if('N' in j):\n",
    "        features += [[(build_bag_of_words_features_filtered(i), 'Intuition') \\\n",
    "        for i in temp1]]\n",
    "    if('S' in j):\n",
    "        features += [[(build_bag_of_words_features_filtered(i), 'Sensing') \\\n",
    "        for i in temp1]]"
   ]
  },
  {
   "cell_type": "code",
   "execution_count": 87,
   "metadata": {},
   "outputs": [],
   "source": [
    "# split the data 80% - 20%\n",
    "train = []\n",
    "for i in range(16):\n",
    "    train += features[i][:split[i]] "
   ]
  },
  {
   "cell_type": "code",
   "execution_count": 88,
   "metadata": {},
   "outputs": [],
   "source": [
    "# training the model\n",
    "intuition_sensing = NaiveBayesClassifier.train(train)"
   ]
  },
  {
   "cell_type": "code",
   "execution_count": 89,
   "metadata": {},
   "outputs": [
    {
     "data": {
      "text/plain": [
       "81.13893000196653"
      ]
     },
     "execution_count": 89,
     "metadata": {},
     "output_type": "execute_result"
    }
   ],
   "source": [
    "# testing the model on the training dataset\n",
    "training_accuracy.append(nltk.classify.util.accuracy(intuition_sensing, train) * 100)\n",
    "nltk.classify.util.accuracy(intuition_sensing, train) * 100"
   ]
  },
  {
   "cell_type": "code",
   "execution_count": 90,
   "metadata": {},
   "outputs": [],
   "source": [
    "# creating the test data\n",
    "test = []\n",
    "for i in range(16):\n",
    "    test += features[i][split[i]:]"
   ]
  },
  {
   "cell_type": "code",
   "execution_count": 91,
   "metadata": {
    "scrolled": true
   },
   "outputs": [
    {
     "data": {
      "text/plain": [
       "61.10168439349418"
      ]
     },
     "execution_count": 91,
     "metadata": {},
     "output_type": "execute_result"
    }
   ],
   "source": [
    "# testing the model on the test dataset\n",
    "testing_accuracy.append(nltk.classify.util.accuracy(intuition_sensing, test) * 100)\n",
    "nltk.classify.util.accuracy(intuition_sensing, test) * 100"
   ]
  },
  {
   "cell_type": "markdown",
   "metadata": {},
   "source": [
    "**** T / F ****"
   ]
  },
  {
   "cell_type": "code",
   "execution_count": 92,
   "metadata": {},
   "outputs": [],
   "source": [
    "# this is a classifier for Thinking (T) and Feeling (F)\n",
    "features = []\n",
    "for j in types:\n",
    "    temp1 = all_posts[j]\n",
    "    temp1 = temp1.dropna() #not all the personality types have same number of files\n",
    "    if('T' in j):\n",
    "        features += [[(build_bag_of_words_features_filtered(i), 'Thinking') \\\n",
    "        for i in temp1]]\n",
    "    if('F' in j):\n",
    "        features += [[(build_bag_of_words_features_filtered(i), 'Feeling') \\\n",
    "        for i in temp1]]"
   ]
  },
  {
   "cell_type": "code",
   "execution_count": 93,
   "metadata": {},
   "outputs": [],
   "source": [
    "# split the data 80% - 20%\n",
    "for i in range(16):\n",
    "    train += features[i][:split[i]]"
   ]
  },
  {
   "cell_type": "code",
   "execution_count": 94,
   "metadata": {},
   "outputs": [],
   "source": [
    "# training the model\n",
    "thinking_feeling = NaiveBayesClassifier.train(train)"
   ]
  },
  {
   "cell_type": "code",
   "execution_count": 95,
   "metadata": {},
   "outputs": [
    {
     "data": {
      "text/plain": [
       "42.61154869225913"
      ]
     },
     "execution_count": 95,
     "metadata": {},
     "output_type": "execute_result"
    }
   ],
   "source": [
    "# testing the model on the training dataset\n",
    "training_accuracy.append(nltk.classify.util.accuracy(thinking_feeling, train) * 100)\n",
    "nltk.classify.util.accuracy(thinking_feeling, train) * 100"
   ]
  },
  {
   "cell_type": "code",
   "execution_count": 96,
   "metadata": {},
   "outputs": [],
   "source": [
    "# creating the test data\n",
    "test=[]\n",
    "for i in range(16):\n",
    "    test += features[i][split[i]:]"
   ]
  },
  {
   "cell_type": "code",
   "execution_count": 97,
   "metadata": {},
   "outputs": [
    {
     "data": {
      "text/plain": [
       "30.377022720688657"
      ]
     },
     "execution_count": 97,
     "metadata": {},
     "output_type": "execute_result"
    }
   ],
   "source": [
    "# testing the model on the test dataset\n",
    "testing_accuracy.append(nltk.classify.util.accuracy(thinking_feeling, test) * 100)\n",
    "nltk.classify.util.accuracy(thinking_feeling, test) * 100"
   ]
  },
  {
   "cell_type": "markdown",
   "metadata": {},
   "source": [
    "**** J / P ****"
   ]
  },
  {
   "cell_type": "code",
   "execution_count": 98,
   "metadata": {},
   "outputs": [],
   "source": [
    "# this is a classifier for Judging (J) and Perceiving (P)\n",
    "features=[]\n",
    "for j in types:\n",
    "    temp1 = all_posts[j]\n",
    "    temp1 = temp1.dropna() #not all the personality types have same number of files\n",
    "    if('J' in j):\n",
    "        features += [[(build_bag_of_words_features_filtered(i), 'Judging') \\\n",
    "        for i in temp1]]\n",
    "    if('P' in j):\n",
    "        features += [[(build_bag_of_words_features_filtered(i), 'Percieving') \\\n",
    "        for i in temp1]]"
   ]
  },
  {
   "cell_type": "code",
   "execution_count": 99,
   "metadata": {},
   "outputs": [],
   "source": [
    "# split the data 80% - 20%\n",
    "train = []\n",
    "for i in range(16):\n",
    "    train += features[i][:split[i]]"
   ]
  },
  {
   "cell_type": "code",
   "execution_count": 100,
   "metadata": {},
   "outputs": [],
   "source": [
    "# training the model\n",
    "judging_perceiving = NaiveBayesClassifier.train(train)"
   ]
  },
  {
   "cell_type": "code",
   "execution_count": 101,
   "metadata": {},
   "outputs": [
    {
     "data": {
      "text/plain": [
       "79.38458035335397"
      ]
     },
     "execution_count": 101,
     "metadata": {},
     "output_type": "execute_result"
    }
   ],
   "source": [
    "# testing the model on the training dataset\n",
    "training_accuracy.append(nltk.classify.util.accuracy(judging_perceiving, train) * 100)\n",
    "nltk.classify.util.accuracy(judging_perceiving, train) * 100"
   ]
  },
  {
   "cell_type": "code",
   "execution_count": 102,
   "metadata": {},
   "outputs": [],
   "source": [
    "# creating the test data\n",
    "test=[]\n",
    "for i in range(16):\n",
    "    test += features[i][split[i]:]"
   ]
  },
  {
   "cell_type": "code",
   "execution_count": 103,
   "metadata": {},
   "outputs": [
    {
     "data": {
      "text/plain": [
       "54.38480321152175"
      ]
     },
     "execution_count": 103,
     "metadata": {},
     "output_type": "execute_result"
    }
   ],
   "source": [
    "# testing the model on the test dataset\n",
    "testing_accuracy.append(nltk.classify.util.accuracy(judging_perceiving, test) * 100)\n",
    "nltk.classify.util.accuracy(judging_perceiving, test)*100"
   ]
  },
  {
   "cell_type": "markdown",
   "metadata": {},
   "source": [
    "**** Summary ****"
   ]
  },
  {
   "cell_type": "code",
   "execution_count": 104,
   "metadata": {},
   "outputs": [
    {
     "data": {
      "text/html": [
       "<div>\n",
       "<style scoped>\n",
       "    .dataframe tbody tr th:only-of-type {\n",
       "        vertical-align: middle;\n",
       "    }\n",
       "\n",
       "    .dataframe tbody tr th {\n",
       "        vertical-align: top;\n",
       "    }\n",
       "\n",
       "    .dataframe thead th {\n",
       "        text-align: right;\n",
       "    }\n",
       "</style>\n",
       "<table border=\"1\" class=\"dataframe\">\n",
       "  <thead>\n",
       "    <tr style=\"text-align: right;\">\n",
       "      <th></th>\n",
       "      <th>Introvert - Extrovert</th>\n",
       "      <th>Intuition - Sensing</th>\n",
       "      <th>Thinking - Feeling</th>\n",
       "      <th>Judging - Percieiving</th>\n",
       "    </tr>\n",
       "  </thead>\n",
       "  <tbody>\n",
       "    <tr>\n",
       "      <th>train</th>\n",
       "      <td>80.765290</td>\n",
       "      <td>81.138930</td>\n",
       "      <td>42.611549</td>\n",
       "      <td>79.384580</td>\n",
       "    </tr>\n",
       "    <tr>\n",
       "      <th>test</th>\n",
       "      <td>58.105368</td>\n",
       "      <td>61.101684</td>\n",
       "      <td>30.377023</td>\n",
       "      <td>54.384803</td>\n",
       "    </tr>\n",
       "  </tbody>\n",
       "</table>\n",
       "</div>"
      ],
      "text/plain": [
       "       Introvert - Extrovert  Intuition - Sensing  Thinking - Feeling  \\\n",
       "train              80.765290            81.138930           42.611549   \n",
       "test               58.105368            61.101684           30.377023   \n",
       "\n",
       "       Judging - Percieiving  \n",
       "train              79.384580  \n",
       "test               54.384803  "
      ]
     },
     "execution_count": 104,
     "metadata": {},
     "output_type": "execute_result"
    }
   ],
   "source": [
    "temp = {'train' : training_accuracy, 'test' : testing_accuracy}\n",
    "results = pd.DataFrame.from_dict(temp, orient='index', columns=['Introvert - Extrovert', 'Intuition - Sensing', 'Thinking - Feeling', 'Judging - Percieiving'])\n",
    "results"
   ]
  },
  {
   "cell_type": "code",
   "execution_count": 105,
   "metadata": {},
   "outputs": [
    {
     "data": {
      "image/png": "[encoded data removed]",
      "text/plain": [
       "<Figure size 864x432 with 1 Axes>"
      ]
     },
     "metadata": {
      "needs_background": "light"
     },
     "output_type": "display_data"
    }
   ],
   "source": [
    "# data visualization\n",
    "\n",
    "labels = np.array(results.columns)\n",
    "\n",
    "training = results.loc['train']\n",
    "ind = np.arange(4)\n",
    "width = 0.4\n",
    "fig = plt.figure()\n",
    "ax = fig.add_subplot(111)\n",
    "rects1 = ax.bar(ind, training, width, color = 'royalblue')\n",
    "\n",
    "testing = results.loc['test']\n",
    "rects2 = ax.bar(ind + width, testing, width, color = 'seagreen')\n",
    "\n",
    "fig.set_size_inches(12, 6)\n",
    "fig.savefig('Results.png', dpi = 200)\n",
    "\n",
    "ax.set_xlabel('Models across axes', size = 18)\n",
    "ax.set_ylabel('Accuracy', size = 18)\n",
    "ax.set_xticks(ind + width / 2)\n",
    "ax.set_xticklabels(labels)\n",
    "ax.legend((rects1[0], rects2[0]), ('Training set', 'Testing set'))\n",
    "plt.show()"
   ]
  },
  {
   "cell_type": "code",
   "execution_count": null,
   "metadata": {},
   "outputs": [],
   "source": []
  }
 ],
 "metadata": {
  "kernelspec": {
   "display_name": "Python 3",
   "language": "python",
   "name": "python3"
  },
  "language_info": {
   "codemirror_mode": {
    "name": "ipython",
    "version": 3
   },
   "file_extension": ".py",
   "mimetype": "text/x-python",
   "name": "python",
   "nbconvert_exporter": "python",
   "pygments_lexer": "ipython3",
   "version": "3.8.2"
  }
 },
 "nbformat": 4,
 "nbformat_minor": 4
}
